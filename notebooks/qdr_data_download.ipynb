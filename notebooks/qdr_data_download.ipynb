{
 "cells": [
  {
   "cell_type": "markdown",
   "id": "fe6889dc-40fb-4277-99af-dabf450aecac",
   "metadata": {},
   "source": [
    "# Qualitative Data Repository (QDR) Data Download\n",
    "\n",
    "This notebook allows HEAL platform users to download and access data from QDR using the Gen3 SDK and the HEAL SDK."
   ]
  },
  {
   "cell_type": "markdown",
   "id": "c2d8de4f-3751-4562-abbc-e7156c0c84c5",
   "metadata": {},
   "source": [
    "#### Import Required Packages\n",
    "Install and import the Gen3 SDK, the HEAL Platform SDK, and some additional packages for logging the results of the data download."
   ]
  },
  {
   "cell_type": "code",
   "execution_count": null,
   "id": "0d2f840a-5c67-4903-a903-bb6cc91d90fe",
   "metadata": {
    "tags": []
   },
   "outputs": [],
   "source": [
    "!pip install gen3 -U -q \n",
    "\n",
    "import os\n",
    "import json\n",
    "import sys\n",
    "import logging\n",
    "\n",
    "# install heal-platform-sdk from github\n",
    "os.system(\"pip install -e git+https://git@github.com/uc-cdis/heal-platform-sdk.git#egg=heal -q\")\n",
    "from src.heal.heal.qdr_downloads import get_syracuse_qdr_files \n",
    "\n",
    "from gen3.auth import Gen3Auth\n",
    "from gen3.tools.download.external_file_download import download_files_from_metadata, extract_external_file_metadata\n",
    "\n",
    "logging.basicConfig(filename=\"output.log\", level=logging.DEBUG)\n",
    "logging.getLogger().addHandler(logging.StreamHandler(sys.stdout))"
   ]
  },
  {
   "cell_type": "markdown",
   "id": "be28921b-304d-41a0-aec2-1ef2acbf6698",
   "metadata": {},
   "source": [
    "### Import Data Manifest\n",
    "\n",
    "Access the data manifest for the study you wish to download and extract the relevant file metadata using the Gen3 SDK. Please fill in the missing string value below with the folder name of your exported metadata file. "
   ]
  },
  {
   "cell_type": "code",
   "execution_count": null,
   "id": "c6c7435b-1cce-4030-b05e-b0cc2bd7fd30",
   "metadata": {
    "tags": []
   },
   "outputs": [],
   "source": [
    "#The folder may be found under the data/healdata.org/exported-metadata\n",
    "exported_metadata_folder = \"placeholder\" # Example - exported-metadata-2024-06-24T17-45-13.702855"
   ]
  },
  {
   "cell_type": "code",
   "execution_count": null,
   "id": "61d298e2-0a26-4bd3-9e14-40fda0a3bbc1",
   "metadata": {
    "tags": []
   },
   "outputs": [],
   "source": [
    "f = open('data/healdata.org/exported-metadata/' + exported_metadata_folder + '/metadata.json') \n",
    "data = json.load(f) \n",
    "external_file_metadata = data[0]['external_file_metadata']\n",
    "external_file_metadata"
   ]
  },
  {
   "cell_type": "markdown",
   "id": "2765f6ea-d0f1-460b-90b2-bed389b82aea",
   "metadata": {},
   "source": [
    "#### Configure Download \n",
    "\n",
    "Authorize with the Gen3 SDK using their HEAL user credentials and configure your download request for the HEAL Platform SDK. \n",
    "\n",
    "You can access your HEAL user credentials in your HEAL Profile page. Make sure your QDR keycloack login is authorized prior to generating your HEAL user credentials."
   ]
  },
  {
   "cell_type": "code",
   "execution_count": null,
   "id": "1ebeb5ac-4a2f-49c2-9437-f06f2d10d4bd",
   "metadata": {
    "tags": []
   },
   "outputs": [],
   "source": [
    "# Commons hostname and corresponding user credentials\n",
    "hostname = \"healdata.org\"\n",
    "credentials_file = \"credentials.json\"\n",
    "\n",
    "# Referenced retriever function\n",
    "retrievers = {\"QDR\": get_syracuse_qdr_files}\n",
    "\n",
    "# Download data path\n",
    "download_path = \"./qdr_downloads\"\n",
    "\n",
    "# Use Gen3Auth to request QDR token\n",
    "auth = Gen3Auth(refresh_file=credentials_file)"
   ]
  },
  {
   "cell_type": "markdown",
   "id": "b671af40-d101-48da-aec4-c6d9d65ee144",
   "metadata": {},
   "source": [
    "### Download Files & Create Status Logs\n",
    "\n",
    "The following command will start to download your requested study from QDR and log the status of your download. "
   ]
  },
  {
   "cell_type": "code",
   "execution_count": null,
   "id": "6e719427-d152-4ee7-867d-36600c92fed5",
   "metadata": {
    "tags": []
   },
   "outputs": [],
   "source": [
    "download_status = download_files_from_metadata(\n",
    "    hostname=hostname,\n",
    "    auth=auth,\n",
    "    external_file_metadata=external_file_metadata,\n",
    "    retrievers=retrievers,\n",
    "    download_path=download_path)\n",
    "logging.info(f\"Download status: {download_status}\")"
   ]
  },
  {
   "cell_type": "code",
   "execution_count": null,
   "id": "655958b6-1f15-455a-b0a8-cfa83a89abb0",
   "metadata": {},
   "outputs": [],
   "source": []
  }
 ],
 "metadata": {
  "kernelspec": {
   "display_name": "Python 3 (ipykernel)",
   "language": "python",
   "name": "python3"
  },
  "language_info": {
   "codemirror_mode": {
    "name": "ipython",
    "version": 3
   },
   "file_extension": ".py",
   "mimetype": "text/x-python",
   "name": "python",
   "nbconvert_exporter": "python",
   "pygments_lexer": "ipython3",
   "version": "3.9.6"
  }
 },
 "nbformat": 4,
 "nbformat_minor": 5
}
